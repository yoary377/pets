{
  "cells": [
    {
      "cell_type": "code",
      "source": [
        "import torch\n",
        "import torch.nn as nn\n",
        "import torch.optim as optim\n",
        "import torchvision.datasets as datasets\n",
        "import torchvision.transforms as transforms\n",
        "from torch.utils.data import DataLoader\n",
        "import numpy as np\n",
        "\n",
        "# Завантаження та підготовка даних MNIST\n",
        "transform = transforms.Compose([\n",
        "    transforms.ToTensor(),  # Конвертація зображення у тензор\n",
        "    transforms.Normalize((0.5,), (0.5,))  # Нормалізація зображення\n",
        "])\n",
        "\n",
        "train_dataset = datasets.MNIST(root='./data', train=True, download=True, transform=transform)\n",
        "test_dataset = datasets.MNIST(root='./data', train=False, download=True, transform=transform)\n",
        "\n",
        "train_loader = DataLoader(train_dataset, batch_size=64, shuffle=True)\n",
        "test_loader = DataLoader(test_dataset, batch_size=64, shuffle=False)\n",
        "\n",
        "# Побудова моделі CNN\n",
        "class CNN(nn.Module):\n",
        "    def __init__(self):\n",
        "        super(CNN, self).__init__()\n",
        "        self.conv1 = nn.Conv2d(1, 32, kernel_size=3, padding=1)\n",
        "        self.conv2 = nn.Conv2d(32, 64, kernel_size=3, padding=1)\n",
        "        self.pool = nn.MaxPool2d(2, 2)\n",
        "        self.fc1 = nn.Linear(64 * 7 * 7, 128)\n",
        "        self.fc2 = nn.Linear(128, 10)\n",
        "\n",
        "    def forward(self, x):\n",
        "        x = self.pool(torch.relu(self.conv1(x)))\n",
        "        x = self.pool(torch.relu(self.conv2(x)))\n",
        "        x = x.view(-1, 64 * 7 * 7)\n",
        "        x = torch.relu(self.fc1(x))\n",
        "        x = self.fc2(x)\n",
        "        return x\n",
        "\n",
        "model = CNN()\n",
        "\n",
        "# Визначення функції втрат та оптимізатора\n",
        "criterion = nn.CrossEntropyLoss()\n",
        "optimizer = optim.Adam(model.parameters(), lr=0.001)\n",
        "\n",
        "# Функція для генерації адверсаріальних зразків за допомогою FGSM\n",
        "def fgsm_attack(image, epsilon, data_grad):\n",
        "    sign_data_grad = data_grad.sign()\n",
        "    perturbed_image = image + epsilon * sign_data_grad\n",
        "    perturbed_image = torch.clamp(perturbed_image, 0, 1)  # Обмеження значень пікселів до діапазону [0, 1]\n",
        "    return perturbed_image\n",
        "\n",
        "# Адверсаріальне навчання моделі\n",
        "num_epochs = 5\n",
        "epsilon = 0.1  # Значення епсилону\n",
        "for epoch in range(num_epochs):\n",
        "    model.train()\n",
        "    for images, labels in train_loader:\n",
        "        images.requires_grad = True\n",
        "        outputs = model(images)\n",
        "        loss = criterion(outputs, labels)\n",
        "        optimizer.zero_grad()\n",
        "        loss.backward(retain_graph=True)\n",
        "        data_grad = images.grad.data\n",
        "        # Adding perturbed images to a training set\n",
        "        # perturbed_images = fgsm_attack(images, epsilon, data_grad)\n",
        "        # perturbed_outputs = model(perturbed_images)\n",
        "        # perturbed_loss = criterion(perturbed_outputs, labels)\n",
        "        total_loss = loss\n",
        "        optimizer.step()\n",
        "\n",
        "    # Оцінка моделі після кожної епохи\n",
        "    model.eval()\n",
        "    correct = 0\n",
        "    total = 0\n",
        "    with torch.no_grad():\n",
        "        for images, labels in test_loader:\n",
        "            outputs = model(images)\n",
        "            _, predicted = torch.max(outputs.data, 1)\n",
        "            total += labels.size(0)\n",
        "            correct += (predicted == labels).sum().item()\n",
        "\n",
        "    accuracy = correct / total\n",
        "    print('Epoch [{}/{}], Accuracy on test data: {:.2f}%'.format(epoch+1, num_epochs, accuracy * 100))\n",
        "\n",
        "# Збереження навченої моделі\n",
        "torch.save(model, 'basic_mnist_cnn_model.pth')\n"
      ],
      "metadata": {
        "id": "bWcIR0FoR_db",
        "outputId": "ae08b5c1-5f00-439a-f5b4-d09713e8afa5",
        "colab": {
          "base_uri": "https://localhost:8080/"
        }
      },
      "execution_count": null,
      "outputs": [
        {
          "output_type": "stream",
          "name": "stdout",
          "text": [
            "Epoch [1/5], Accuracy on test data: 98.32%\n",
            "Epoch [2/5], Accuracy on test data: 98.97%\n",
            "Epoch [3/5], Accuracy on test data: 98.90%\n",
            "Epoch [4/5], Accuracy on test data: 99.08%\n",
            "Epoch [5/5], Accuracy on test data: 99.00%\n"
          ]
        }
      ]
    },
    {
      "cell_type": "code",
      "source": [
        "import torch\n",
        "import torch.nn as nn\n",
        "import torchvision.transforms as transforms\n",
        "from torch.utils.data import DataLoader\n",
        "from torchvision.datasets import MNIST\n",
        "\n",
        "# Функція для генерації адверсаріальних зображень за допомогою FGSM\n",
        "def fgsm_attack(image, epsilon, data_grad):\n",
        "    sign_data_grad = data_grad.sign()\n",
        "    perturbed_image = image + epsilon * sign_data_grad\n",
        "    perturbed_image = torch.clamp(perturbed_image, 0, 1)  # Обмеження значень пікселів до діапазону [0, 1]\n",
        "    return perturbed_image\n",
        "\n",
        "# Завантаження натренованої моделі\n",
        "model = torch.load('basic_mnist_cnn_model.pth')\n",
        "model.eval()\n",
        "\n",
        "# Завантаження та підготовка тестових даних MNIST\n",
        "transform = transforms.Compose([\n",
        "    transforms.ToTensor(),  # Конвертація зображення у тензор\n",
        "    transforms.Normalize((0.5,), (0.5,))  # Нормалізація зображення\n",
        "])\n",
        "\n",
        "test_dataset = MNIST(root='./data', train=False, download=True, transform=transform)\n",
        "test_loader = DataLoader(test_dataset, batch_size=1, shuffle=True)\n",
        "\n",
        "# Значення епсилонів для перевірки\n",
        "epsilons = [0.01, 0.05, 0.1, 0.2, 0.5]\n",
        "\n",
        "# Перевірка точності моделі на тестовому наборі даних для кожного значення епсілону\n",
        "for epsilon in epsilons:\n",
        "    correct_adversarial = 0\n",
        "    total = 0\n",
        "\n",
        "    for images, labels in test_loader:\n",
        "        images.requires_grad = True\n",
        "        outputs = model(images)\n",
        "        loss = nn.CrossEntropyLoss()\n",
        "        loss_cal = loss(outputs, labels)\n",
        "        loss_cal.backward()\n",
        "        data_grad = images.grad.data\n",
        "        perturbed_images = fgsm_attack(images, epsilon, data_grad)\n",
        "        perturbed_outputs = model(perturbed_images)\n",
        "        _, perturbed_predicted = torch.max(perturbed_outputs.data, 1)\n",
        "        correct_adversarial += (perturbed_predicted == labels).sum().item()\n",
        "        total += labels.size(0)\n",
        "\n",
        "    accuracy_adversarial = correct_adversarial / total\n",
        "    print('Epsilon: {:.2f}, Accuracy on adversarial test data: {:.2f}%'.format(epsilon, accuracy_adversarial * 100))\n"
      ],
      "metadata": {
        "id": "fHtp0TJCfIqr",
        "outputId": "5680bfc6-a6c4-4e02-f3ab-b35f1f0caedc",
        "colab": {
          "base_uri": "https://localhost:8080/"
        }
      },
      "execution_count": null,
      "outputs": [
        {
          "output_type": "stream",
          "name": "stdout",
          "text": [
            "Epsilon: 0.01, Accuracy on adversarial test data: 98.00%\n",
            "Epsilon: 0.05, Accuracy on adversarial test data: 96.98%\n",
            "Epsilon: 0.10, Accuracy on adversarial test data: 95.18%\n",
            "Epsilon: 0.20, Accuracy on adversarial test data: 88.69%\n",
            "Epsilon: 0.50, Accuracy on adversarial test data: 48.80%\n"
          ]
        }
      ]
    },
    {
      "cell_type": "code",
      "source": [
        "import torch\n",
        "import torch.nn as nn\n",
        "import torchvision.transforms as transforms\n",
        "from torch.utils.data import DataLoader\n",
        "from torchvision.datasets import MNIST\n",
        "import numpy as np\n",
        "\n",
        "# Define the CNN model\n",
        "class CNN(nn.Module):\n",
        "    def __init__(self):\n",
        "        super(CNN, self).__init__()\n",
        "        self.conv1 = nn.Conv2d(1, 32, kernel_size=3, padding=1)\n",
        "        self.conv2 = nn.Conv2d(32, 64, kernel_size=3, padding=1)\n",
        "        self.pool = nn.MaxPool2d(2, 2)\n",
        "        self.fc1 = nn.Linear(64 * 7 * 7, 128)\n",
        "        self.fc2 = nn.Linear(128, 10)\n",
        "\n",
        "    def forward(self, x):\n",
        "        x = self.pool(torch.relu(self.conv1(x)))\n",
        "        x = self.pool(torch.relu(self.conv2(x)))\n",
        "        x = x.view(-1, 64 * 7 * 7)\n",
        "        x = torch.relu(self.fc1(x))\n",
        "        x = self.fc2(x)\n",
        "        return x\n",
        "\n",
        "# Load and prepare the MNIST training and test datasets\n",
        "transform = transforms.Compose([\n",
        "    transforms.ToTensor(),  # Convert the image to a tensor\n",
        "    transforms.Normalize((0.5,), (0.5,))  # Normalize the image\n",
        "])\n",
        "\n",
        "train_dataset = MNIST(root='./data', train=True, download=True, transform=transform)\n",
        "test_dataset = MNIST(root='./data', train=False, download=True, transform=transform)\n",
        "\n",
        "train_loader = DataLoader(train_dataset, batch_size=64, shuffle=True)\n",
        "test_loader = DataLoader(test_dataset, batch_size=64, shuffle=False)\n",
        "\n",
        "# Initialize the model, loss function and optimizer\n",
        "device = torch.device('cuda' if torch.cuda.is_available() else 'cpu')\n",
        "model = CNN().to(device)\n",
        "criterion = nn.CrossEntropyLoss()\n",
        "optimizer = torch.optim.Adam(model.parameters())\n",
        "\n",
        "# Train the model\n",
        "model.train()\n",
        "for epoch in range(10):  # Loop over the dataset multiple times\n",
        "    running_loss = 0.0\n",
        "    for i, data in enumerate(train_loader, 0):\n",
        "        # Get the inputs; data is a list of [inputs, labels]\n",
        "        inputs, labels = data[0].to(device), data[1].to(device)\n",
        "\n",
        "        # Zero the parameter gradients\n",
        "        optimizer.zero_grad()\n",
        "\n",
        "        # Forward + backward + optimize\n",
        "        outputs = model(inputs)\n",
        "        loss = criterion(outputs, labels)\n",
        "        loss.backward()\n",
        "        optimizer.step()\n",
        "\n",
        "        # Print statistics\n",
        "        running_loss += loss.item()\n",
        "        if i % 2000 == 1999:    # Print every 2000 mini-batches\n",
        "            print('[%d, %5d] loss: %.3f' %\n",
        "                  (epoch + 1, i + 1, running_loss / 2000))\n",
        "            running_loss = 0.0\n",
        "\n",
        "print('Finished Training')\n",
        "\n",
        "# Evaluate the model's accuracy on the training dataset\n",
        "def evaluate_model(model, data_loader):\n",
        "    correct = 0\n",
        "    total = 0\n",
        "    with torch.no_grad():\n",
        "        for images, labels in data_loader:\n",
        "            images, labels = images.to(device), labels.to(device)\n",
        "            outputs = model(images)\n",
        "            _, predicted = torch.max(outputs.data, 1)\n",
        "            total += labels.size(0)\n",
        "            correct += (predicted == labels).sum().item()\n",
        "    accuracy = correct / total\n",
        "    return accuracy\n",
        "\n",
        "accuracy_before_poisoning = evaluate_model(model, train_loader)\n",
        "print('Accuracy on clean training data before poisoning: {:.2f}%'.format(accuracy_before_poisoning * 100))\n",
        "\n",
        "# Now, let's perform the poisoning attack and retrain the model on the poisoned dataset\n",
        "def poisoning_attack(data_loader, percentage=0.1, target_label=7):\n",
        "    poisoned_data = []\n",
        "    num_poisoned_batches = int(len(data_loader.dataset) * percentage)\n",
        "    for idx, (images, labels) in enumerate(data_loader):\n",
        "        if idx < num_poisoned_batches:\n",
        "            images, labels = images.to(device), labels.to(device)\n",
        "            labels[:] = target_label\n",
        "        poisoned_data.append((images, labels))\n",
        "    return poisoned_data\n",
        "\n",
        "# Poison the training dataset\n",
        "poisoned_train_loader = poisoning_attack(train_loader)\n",
        "\n",
        "# Retrain the model on the poisoned data\n",
        "model.train()\n",
        "for epoch in range(10):  # Loop over the dataset multiple times\n",
        "    running_loss = 0.0\n",
        "    for i, data in enumerate(poisoned_train_loader, 0):\n",
        "        # Get the inputs; data is a list of [inputs, labels]\n",
        "        inputs, labels = data[0].to(device), data[1].to(device)\n",
        "\n",
        "        # Zero the parameter gradients\n",
        "        optimizer.zero_grad()\n",
        "\n",
        "        # Forward + backward + optimize\n",
        "        outputs = model(inputs)\n",
        "        loss = criterion(outputs, labels)\n",
        "        loss.backward()\n",
        "        optimizer.step()\n",
        "\n",
        "        # Print statistics\n",
        "        running_loss += loss.item()\n",
        "        if i % 2000 == 1999:    # Print every 2000 mini-batches\n",
        "            print('[%d, %5d] loss: %.3f' %\n",
        "                  (epoch + 1, i + 1, running_loss / 2000))\n",
        "            running_loss = 0.0\n",
        "\n",
        "print('Finished Retraining')\n",
        "\n",
        "accuracy_after_poisoning = evaluate_model(model, poisoned_train_loader)\n",
        "print('Accuracy on poisoned training data: {:.2f}%'.format(accuracy_after_poisoning * 100))\n"
      ],
      "metadata": {
        "id": "41kJe487oYbe",
        "outputId": "93eb9f59-e86c-4297-a5e4-07a3e2f8c767",
        "colab": {
          "base_uri": "https://localhost:8080/"
        }
      },
      "execution_count": 2,
      "outputs": [
        {
          "output_type": "stream",
          "name": "stdout",
          "text": [
            "Downloading http://yann.lecun.com/exdb/mnist/train-images-idx3-ubyte.gz\n",
            "Failed to download (trying next):\n",
            "HTTP Error 403: Forbidden\n",
            "\n",
            "Downloading https://ossci-datasets.s3.amazonaws.com/mnist/train-images-idx3-ubyte.gz\n",
            "Downloading https://ossci-datasets.s3.amazonaws.com/mnist/train-images-idx3-ubyte.gz to ./data/MNIST/raw/train-images-idx3-ubyte.gz\n"
          ]
        },
        {
          "output_type": "stream",
          "name": "stderr",
          "text": [
            "100%|██████████| 9912422/9912422 [00:00<00:00, 16364093.07it/s]\n"
          ]
        },
        {
          "output_type": "stream",
          "name": "stdout",
          "text": [
            "Extracting ./data/MNIST/raw/train-images-idx3-ubyte.gz to ./data/MNIST/raw\n",
            "\n",
            "Downloading http://yann.lecun.com/exdb/mnist/train-labels-idx1-ubyte.gz\n",
            "Failed to download (trying next):\n",
            "HTTP Error 403: Forbidden\n",
            "\n",
            "Downloading https://ossci-datasets.s3.amazonaws.com/mnist/train-labels-idx1-ubyte.gz\n",
            "Downloading https://ossci-datasets.s3.amazonaws.com/mnist/train-labels-idx1-ubyte.gz to ./data/MNIST/raw/train-labels-idx1-ubyte.gz\n"
          ]
        },
        {
          "output_type": "stream",
          "name": "stderr",
          "text": [
            "100%|██████████| 28881/28881 [00:00<00:00, 490013.28it/s]\n"
          ]
        },
        {
          "output_type": "stream",
          "name": "stdout",
          "text": [
            "Extracting ./data/MNIST/raw/train-labels-idx1-ubyte.gz to ./data/MNIST/raw\n",
            "\n",
            "Downloading http://yann.lecun.com/exdb/mnist/t10k-images-idx3-ubyte.gz\n",
            "Failed to download (trying next):\n",
            "HTTP Error 403: Forbidden\n",
            "\n",
            "Downloading https://ossci-datasets.s3.amazonaws.com/mnist/t10k-images-idx3-ubyte.gz\n",
            "Downloading https://ossci-datasets.s3.amazonaws.com/mnist/t10k-images-idx3-ubyte.gz to ./data/MNIST/raw/t10k-images-idx3-ubyte.gz\n"
          ]
        },
        {
          "output_type": "stream",
          "name": "stderr",
          "text": [
            "100%|██████████| 1648877/1648877 [00:00<00:00, 4520287.95it/s]\n"
          ]
        },
        {
          "output_type": "stream",
          "name": "stdout",
          "text": [
            "Extracting ./data/MNIST/raw/t10k-images-idx3-ubyte.gz to ./data/MNIST/raw\n",
            "\n",
            "Downloading http://yann.lecun.com/exdb/mnist/t10k-labels-idx1-ubyte.gz\n",
            "Failed to download (trying next):\n",
            "HTTP Error 403: Forbidden\n",
            "\n",
            "Downloading https://ossci-datasets.s3.amazonaws.com/mnist/t10k-labels-idx1-ubyte.gz\n",
            "Downloading https://ossci-datasets.s3.amazonaws.com/mnist/t10k-labels-idx1-ubyte.gz to ./data/MNIST/raw/t10k-labels-idx1-ubyte.gz\n"
          ]
        },
        {
          "output_type": "stream",
          "name": "stderr",
          "text": [
            "100%|██████████| 4542/4542 [00:00<00:00, 4411887.16it/s]\n"
          ]
        },
        {
          "output_type": "stream",
          "name": "stdout",
          "text": [
            "Extracting ./data/MNIST/raw/t10k-labels-idx1-ubyte.gz to ./data/MNIST/raw\n",
            "\n",
            "Finished Training\n",
            "Accuracy on clean training data before poisoning: 99.84%\n",
            "Finished Retraining\n",
            "Accuracy on poisoned training data: 100.00%\n"
          ]
        }
      ]
    },
    {
      "cell_type": "code",
      "source": [
        "accuracy_after_poisoning = evaluate_model(model, test_loader)\n",
        "print('Accuracy on clean test data after poisoning: {:.2f}%'.format(accuracy_after_poisoning * 100))"
      ],
      "metadata": {
        "id": "_wPfqXXfqbAX",
        "outputId": "1853dc5c-6dcf-4c86-bc24-8116c945be2a",
        "colab": {
          "base_uri": "https://localhost:8080/"
        }
      },
      "execution_count": null,
      "outputs": [
        {
          "output_type": "stream",
          "name": "stdout",
          "text": [
            "Accuracy on clean test data after poisoning: 10.28%\n"
          ]
        }
      ]
    },
    {
      "cell_type": "code",
      "source": [
        "import matplotlib.pyplot as plt\n",
        "\n",
        "# Get a batch of data\n",
        "dataiter = iter(train_loader)\n",
        "images, labels = next(dataiter)\n",
        "\n",
        "# Move the images and labels to the CPU\n",
        "images = images.cpu()\n",
        "labels = labels.cpu()\n",
        "\n",
        "# Get the model's predictions\n",
        "outputs = model(images.to(device))\n",
        "_, predicted = torch.max(outputs.data, 1)\n",
        "predicted = predicted.cpu()\n",
        "\n",
        "# Plot the images with their predicted and actual labels\n",
        "fig, axes = plt.subplots(1, 5, figsize=(15, 3))\n",
        "for i, ax in enumerate(axes.flat):\n",
        "    ax.imshow(images[i].squeeze(), cmap='gray')\n",
        "    ax.set_title(f'Predicted: {predicted[i]}, Actual: {labels[i]}')\n",
        "    ax.axis('off')\n",
        "\n",
        "plt.show()"
      ],
      "metadata": {
        "id": "0T8Lhcsrw4x_",
        "colab": {
          "base_uri": "https://localhost:8080/",
          "height": 259
        },
        "outputId": "3a8c87fa-e165-4aac-a04c-676bf7027e65"
      },
      "execution_count": 7,
      "outputs": [
        {
          "output_type": "display_data",
          "data": {
            "text/plain": [
              "<Figure size 1500x300 with 5 Axes>"
            ],
            "image/png": "[encoded data removed]"
          },
          "metadata": {}
        }
      ]
    },
    {
      "cell_type": "code",
      "source": [],
      "metadata": {
        "id": "TuOQhawgZ5o6"
      },
      "execution_count": null,
      "outputs": []
    }
  ],
  "metadata": {
    "accelerator": "GPU",
    "colab": {
      "provenance": []
    },
    "kernelspec": {
      "display_name": "Python 3",
      "name": "python3"
    }
  },
  "nbformat": 4,
  "nbformat_minor": 0
}