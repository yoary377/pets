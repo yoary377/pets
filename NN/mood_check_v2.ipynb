{
 "cells": [
  {
   "cell_type": "code",
   "execution_count": 1,
   "id": "initial_id",
   "metadata": {
    "collapsed": true,
    "ExecuteTime": {
     "end_time": "2024-05-14T15:11:31.841824800Z",
     "start_time": "2024-05-14T15:11:23.306541600Z"
    }
   },
   "outputs": [],
   "source": [
    "import random\n",
    "\n",
    "import pandas as pd\n",
    "import numpy as np\n",
    "import nltk\n",
    "from nltk.corpus import stopwords\n",
    "from nltk.stem import WordNetLemmatizer\n",
    "from sklearn.model_selection import train_test_split\n",
    "from tensorflow.keras.preprocessing.text import Tokenizer\n",
    "from tensorflow.keras.preprocessing.sequence import pad_sequences\n",
    "from tensorflow.keras.models import Sequential\n",
    "from tensorflow.keras.layers import Embedding, LSTM, Dense, Dropout\n",
    "from tensorflow.keras.callbacks import ModelCheckpoint\n",
    "from keras.optimizers import Adam"
   ]
  },
  {
   "cell_type": "code",
   "outputs": [],
   "source": [
    "df = pd.read_csv('genshin_review.csv')"
   ],
   "metadata": {
    "collapsed": false,
    "ExecuteTime": {
     "end_time": "2024-05-14T15:59:07.438911700Z",
     "start_time": "2024-05-14T15:59:07.377103600Z"
    }
   },
   "id": "9b70ed8b2444af2a",
   "execution_count": 151
  },
  {
   "cell_type": "code",
   "outputs": [],
   "source": [
    "import string\n",
    "\n",
    "stop_words = set(stopwords.words('english'))\n",
    "lemmatizer = WordNetLemmatizer()\n",
    "\n",
    "def clean_text(text):\n",
    "    # Remove punctuation\n",
    "    text = text.translate(str.maketrans('', '', string.punctuation))\n",
    "    \n",
    "    words = nltk.wordpunct_tokenize(text)\n",
    "    \n",
    "    # Lowercase and lemmatize\n",
    "    text = ' '.join(lemmatizer.lemmatize(word) for word in text.split() if word not in stop_words)\n",
    "    \n",
    "    return text\n",
    "\n",
    "df['review'] = df['review'].apply(clean_text)"
   ],
   "metadata": {
    "collapsed": false,
    "ExecuteTime": {
     "end_time": "2024-05-14T16:10:57.208844700Z",
     "start_time": "2024-05-14T16:10:57.114361600Z"
    }
   },
   "id": "eb9ddb766c75a2",
   "execution_count": 153
  },
  {
   "cell_type": "code",
   "outputs": [],
   "source": [
    "df['rating'] = df['rating'].apply(lambda x: 1 if x > 3 else 0)"
   ],
   "metadata": {
    "collapsed": false,
    "ExecuteTime": {
     "end_time": "2024-05-14T16:11:02.241620100Z",
     "start_time": "2024-05-14T16:11:02.238513600Z"
    }
   },
   "id": "791d81ad7c236d83",
   "execution_count": 154
  },
  {
   "cell_type": "code",
   "outputs": [
    {
     "name": "stdout",
     "output_type": "stream",
     "text": [
      "336\n"
     ]
    }
   ],
   "source": [
    "num_zeros = (df['rating'] == 0).sum()\n",
    "print(num_zeros)"
   ],
   "metadata": {
    "collapsed": false,
    "ExecuteTime": {
     "end_time": "2024-05-14T16:11:03.194704500Z",
     "start_time": "2024-05-14T16:11:03.187919200Z"
    }
   },
   "id": "4f7b3bba00e93c57",
   "execution_count": 155
  },
  {
   "cell_type": "code",
   "outputs": [],
   "source": [
    "# Separate majority and minority classes\n",
    "df_majority = df[df.rating==1]\n",
    "df_minority = df[df.rating==0]\n",
    "\n",
    "# Downsample majority class\n",
    "from sklearn.utils import resample\n",
    "df_majority_downsampled = resample(df_majority, \n",
    "                                 replace=False,    # sample without replacement\n",
    "                                 n_samples=336,     # to match minority class\n",
    "                                 random_state=123) # reproducible results\n",
    " \n",
    "# Combine minority class with downsampled majority class\n",
    "df_downsampled = pd.concat([df_majority_downsampled, df_minority])\n",
    "\n",
    "# Display new class counts\n",
    "df_downsampled.rating.value_counts()\n",
    "df_downsampled.reset_index(drop=True, inplace=True)"
   ],
   "metadata": {
    "collapsed": false,
    "ExecuteTime": {
     "end_time": "2024-05-14T20:43:02.605311700Z",
     "start_time": "2024-05-14T20:43:02.556404500Z"
    }
   },
   "id": "6a3183f0b0a432df",
   "execution_count": 207
  },
  {
   "cell_type": "code",
   "outputs": [],
   "source": [
    "X_train, X_test, y_train, y_test = train_test_split(df_downsampled['review'], df_downsampled['rating'], test_size=0.25, random_state=25)"
   ],
   "metadata": {
    "collapsed": false,
    "ExecuteTime": {
     "end_time": "2024-05-14T20:43:03.295787200Z",
     "start_time": "2024-05-14T20:43:03.233707300Z"
    }
   },
   "id": "cc5d8ba12c639b96",
   "execution_count": 208
  },
  {
   "cell_type": "code",
   "outputs": [],
   "source": [
    "tokenizer = Tokenizer(num_words=10000, oov_token='OOV')\n",
    "tokenizer.fit_on_texts(X_train)\n",
    "X_train = tokenizer.texts_to_sequences(X_train)\n",
    "X_test = tokenizer.texts_to_sequences(X_test)\n",
    "\n",
    "# Padding sequences\n",
    "X_train = pad_sequences(X_train, padding='post')\n",
    "X_test = pad_sequences(X_test, padding='post')"
   ],
   "metadata": {
    "collapsed": false,
    "ExecuteTime": {
     "end_time": "2024-05-14T20:43:03.921137100Z",
     "start_time": "2024-05-14T20:43:03.845156Z"
    }
   },
   "id": "3de21454d0c8e03a",
   "execution_count": 209
  },
  {
   "cell_type": "code",
   "outputs": [],
   "source": [
    "model = Sequential()\n",
    "model.add(Embedding(input_dim=10000, output_dim=64))\n",
    "model.add(LSTM(64))\n",
    "model.add(Dense(1, activation='sigmoid'))\n",
    "\n",
    "model.compile(loss='binary_crossentropy', optimizer=Adam(learning_rate=0.001), metrics=['accuracy'])"
   ],
   "metadata": {
    "collapsed": false,
    "ExecuteTime": {
     "end_time": "2024-05-14T20:43:04.550879700Z",
     "start_time": "2024-05-14T20:43:04.479883300Z"
    }
   },
   "id": "758acd7e695bf222",
   "execution_count": 210
  },
  {
   "cell_type": "code",
   "outputs": [
    {
     "name": "stdout",
     "output_type": "stream",
     "text": [
      "Epoch 1/15\n",
      "\u001B[1m16/16\u001B[0m \u001B[32m━━━━━━━━━━━━━━━━━━━━\u001B[0m\u001B[37m\u001B[0m \u001B[1m0s\u001B[0m 65ms/step - accuracy: 0.4669 - loss: 0.6947\n",
      "Epoch 1: val_loss improved from inf to 0.69549, saving model to model-001-0.490079-0.464286.keras\n",
      "\u001B[1m16/16\u001B[0m \u001B[32m━━━━━━━━━━━━━━━━━━━━\u001B[0m\u001B[37m\u001B[0m \u001B[1m7s\u001B[0m 133ms/step - accuracy: 0.4683 - loss: 0.6947 - val_accuracy: 0.4643 - val_loss: 0.6955\n",
      "Epoch 2/15\n",
      "\u001B[1m16/16\u001B[0m \u001B[32m━━━━━━━━━━━━━━━━━━━━\u001B[0m\u001B[37m\u001B[0m \u001B[1m0s\u001B[0m 68ms/step - accuracy: 0.5414 - loss: 0.6913\n",
      "Epoch 2: val_loss did not improve from 0.69549\n",
      "\u001B[1m16/16\u001B[0m \u001B[32m━━━━━━━━━━━━━━━━━━━━\u001B[0m\u001B[37m\u001B[0m \u001B[1m1s\u001B[0m 81ms/step - accuracy: 0.5399 - loss: 0.6914 - val_accuracy: 0.4643 - val_loss: 0.6962\n",
      "Epoch 3/15\n",
      "\u001B[1m16/16\u001B[0m \u001B[32m━━━━━━━━━━━━━━━━━━━━\u001B[0m\u001B[37m\u001B[0m \u001B[1m0s\u001B[0m 68ms/step - accuracy: 0.4928 - loss: 0.6942\n",
      "Epoch 3: val_loss improved from 0.69549 to 0.69333, saving model to model-003-0.503968-0.470238.keras\n",
      "\u001B[1m16/16\u001B[0m \u001B[32m━━━━━━━━━━━━━━━━━━━━\u001B[0m\u001B[37m\u001B[0m \u001B[1m2s\u001B[0m 99ms/step - accuracy: 0.4934 - loss: 0.6941 - val_accuracy: 0.4702 - val_loss: 0.6933\n",
      "Epoch 4/15\n",
      "\u001B[1m16/16\u001B[0m \u001B[32m━━━━━━━━━━━━━━━━━━━━\u001B[0m\u001B[37m\u001B[0m \u001B[1m0s\u001B[0m 71ms/step - accuracy: 0.5486 - loss: 0.6925\n",
      "Epoch 4: val_loss did not improve from 0.69333\n",
      "\u001B[1m16/16\u001B[0m \u001B[32m━━━━━━━━━━━━━━━━━━━━\u001B[0m\u001B[37m\u001B[0m \u001B[1m1s\u001B[0m 84ms/step - accuracy: 0.5468 - loss: 0.6925 - val_accuracy: 0.4643 - val_loss: 0.6965\n",
      "Epoch 5/15\n",
      "\u001B[1m16/16\u001B[0m \u001B[32m━━━━━━━━━━━━━━━━━━━━\u001B[0m\u001B[37m\u001B[0m \u001B[1m0s\u001B[0m 65ms/step - accuracy: 0.5409 - loss: 0.6907\n",
      "Epoch 5: val_loss did not improve from 0.69333\n",
      "\u001B[1m16/16\u001B[0m \u001B[32m━━━━━━━━━━━━━━━━━━━━\u001B[0m\u001B[37m\u001B[0m \u001B[1m1s\u001B[0m 78ms/step - accuracy: 0.5395 - loss: 0.6907 - val_accuracy: 0.4643 - val_loss: 0.6946\n",
      "Epoch 6/15\n",
      "\u001B[1m16/16\u001B[0m \u001B[32m━━━━━━━━━━━━━━━━━━━━\u001B[0m\u001B[37m\u001B[0m \u001B[1m0s\u001B[0m 65ms/step - accuracy: 0.5405 - loss: 0.6905\n",
      "Epoch 6: val_loss improved from 0.69333 to 0.65329, saving model to model-006-0.549603-0.595238.keras\n",
      "\u001B[1m16/16\u001B[0m \u001B[32m━━━━━━━━━━━━━━━━━━━━\u001B[0m\u001B[37m\u001B[0m \u001B[1m1s\u001B[0m 91ms/step - accuracy: 0.5410 - loss: 0.6903 - val_accuracy: 0.5952 - val_loss: 0.6533\n",
      "Epoch 7/15\n",
      "\u001B[1m16/16\u001B[0m \u001B[32m━━━━━━━━━━━━━━━━━━━━\u001B[0m\u001B[37m\u001B[0m \u001B[1m0s\u001B[0m 63ms/step - accuracy: 0.6391 - loss: 0.6313\n",
      "Epoch 7: val_loss did not improve from 0.65329\n",
      "\u001B[1m16/16\u001B[0m \u001B[32m━━━━━━━━━━━━━━━━━━━━\u001B[0m\u001B[37m\u001B[0m \u001B[1m1s\u001B[0m 74ms/step - accuracy: 0.6384 - loss: 0.6314 - val_accuracy: 0.5774 - val_loss: 0.7223\n",
      "Epoch 8/15\n",
      "\u001B[1m16/16\u001B[0m \u001B[32m━━━━━━━━━━━━━━━━━━━━\u001B[0m\u001B[37m\u001B[0m \u001B[1m0s\u001B[0m 63ms/step - accuracy: 0.7094 - loss: 0.7068\n",
      "Epoch 8: val_loss did not improve from 0.65329\n",
      "\u001B[1m16/16\u001B[0m \u001B[32m━━━━━━━━━━━━━━━━━━━━\u001B[0m\u001B[37m\u001B[0m \u001B[1m1s\u001B[0m 78ms/step - accuracy: 0.7104 - loss: 0.7047 - val_accuracy: 0.6250 - val_loss: 0.6693\n",
      "Epoch 9/15\n",
      "\u001B[1m16/16\u001B[0m \u001B[32m━━━━━━━━━━━━━━━━━━━━\u001B[0m\u001B[37m\u001B[0m \u001B[1m0s\u001B[0m 66ms/step - accuracy: 0.7347 - loss: 0.5909\n",
      "Epoch 9: val_loss did not improve from 0.65329\n",
      "\u001B[1m16/16\u001B[0m \u001B[32m━━━━━━━━━━━━━━━━━━━━\u001B[0m\u001B[37m\u001B[0m \u001B[1m1s\u001B[0m 79ms/step - accuracy: 0.7337 - loss: 0.5916 - val_accuracy: 0.6429 - val_loss: 0.6662\n",
      "Epoch 10/15\n",
      "\u001B[1m16/16\u001B[0m \u001B[32m━━━━━━━━━━━━━━━━━━━━\u001B[0m\u001B[37m\u001B[0m \u001B[1m0s\u001B[0m 64ms/step - accuracy: 0.7155 - loss: 0.5950\n",
      "Epoch 10: val_loss did not improve from 0.65329\n",
      "\u001B[1m16/16\u001B[0m \u001B[32m━━━━━━━━━━━━━━━━━━━━\u001B[0m\u001B[37m\u001B[0m \u001B[1m1s\u001B[0m 78ms/step - accuracy: 0.7156 - loss: 0.5951 - val_accuracy: 0.6369 - val_loss: 0.6605\n",
      "Epoch 11/15\n",
      "\u001B[1m16/16\u001B[0m \u001B[32m━━━━━━━━━━━━━━━━━━━━\u001B[0m\u001B[37m\u001B[0m \u001B[1m0s\u001B[0m 66ms/step - accuracy: 0.7094 - loss: 0.5986\n",
      "Epoch 11: val_loss did not improve from 0.65329\n",
      "\u001B[1m16/16\u001B[0m \u001B[32m━━━━━━━━━━━━━━━━━━━━\u001B[0m\u001B[37m\u001B[0m \u001B[1m1s\u001B[0m 80ms/step - accuracy: 0.7102 - loss: 0.5980 - val_accuracy: 0.6429 - val_loss: 0.6638\n",
      "Epoch 12/15\n",
      "\u001B[1m16/16\u001B[0m \u001B[32m━━━━━━━━━━━━━━━━━━━━\u001B[0m\u001B[37m\u001B[0m \u001B[1m0s\u001B[0m 63ms/step - accuracy: 0.7084 - loss: 0.5992\n",
      "Epoch 12: val_loss did not improve from 0.65329\n",
      "\u001B[1m16/16\u001B[0m \u001B[32m━━━━━━━━━━━━━━━━━━━━\u001B[0m\u001B[37m\u001B[0m \u001B[1m1s\u001B[0m 74ms/step - accuracy: 0.7093 - loss: 0.5985 - val_accuracy: 0.6429 - val_loss: 0.6634\n",
      "Epoch 13/15\n",
      "\u001B[1m16/16\u001B[0m \u001B[32m━━━━━━━━━━━━━━━━━━━━\u001B[0m\u001B[37m\u001B[0m \u001B[1m0s\u001B[0m 64ms/step - accuracy: 0.7062 - loss: 0.6068\n",
      "Epoch 13: val_loss did not improve from 0.65329\n",
      "\u001B[1m16/16\u001B[0m \u001B[32m━━━━━━━━━━━━━━━━━━━━\u001B[0m\u001B[37m\u001B[0m \u001B[1m1s\u001B[0m 75ms/step - accuracy: 0.7073 - loss: 0.6057 - val_accuracy: 0.6429 - val_loss: 0.6636\n",
      "Epoch 14/15\n",
      "\u001B[1m16/16\u001B[0m \u001B[32m━━━━━━━━━━━━━━━━━━━━\u001B[0m\u001B[37m\u001B[0m \u001B[1m0s\u001B[0m 63ms/step - accuracy: 0.7321 - loss: 0.5763\n",
      "Epoch 14: val_loss did not improve from 0.65329\n",
      "\u001B[1m16/16\u001B[0m \u001B[32m━━━━━━━━━━━━━━━━━━━━\u001B[0m\u001B[37m\u001B[0m \u001B[1m1s\u001B[0m 75ms/step - accuracy: 0.7317 - loss: 0.5771 - val_accuracy: 0.6429 - val_loss: 0.6642\n",
      "Epoch 15/15\n",
      "\u001B[1m16/16\u001B[0m \u001B[32m━━━━━━━━━━━━━━━━━━━━\u001B[0m\u001B[37m\u001B[0m \u001B[1m0s\u001B[0m 63ms/step - accuracy: 0.7392 - loss: 0.5731\n",
      "Epoch 15: val_loss did not improve from 0.65329\n",
      "\u001B[1m16/16\u001B[0m \u001B[32m━━━━━━━━━━━━━━━━━━━━\u001B[0m\u001B[37m\u001B[0m \u001B[1m1s\u001B[0m 77ms/step - accuracy: 0.7386 - loss: 0.5737 - val_accuracy: 0.6488 - val_loss: 0.6576\n"
     ]
    },
    {
     "data": {
      "text/plain": "<keras.src.callbacks.history.History at 0x22bf77ecc10>"
     },
     "execution_count": 211,
     "metadata": {},
     "output_type": "execute_result"
    }
   ],
   "source": [
    "checkpoint = ModelCheckpoint('model-{epoch:03d}-{accuracy:03f}-{val_accuracy:03f}.keras', verbose=1, monitor='val_loss',save_best_only=True, mode='auto')\n",
    "model.fit(X_train, y_train, epochs=15, validation_data=(X_test, y_test), callbacks=[checkpoint])"
   ],
   "metadata": {
    "collapsed": false,
    "ExecuteTime": {
     "end_time": "2024-05-14T20:43:44.711199800Z",
     "start_time": "2024-05-14T20:43:18.252197700Z"
    }
   },
   "id": "a539792a29e1ff93",
   "execution_count": 211
  },
  {
   "cell_type": "code",
   "outputs": [
    {
     "name": "stdout",
     "output_type": "stream",
     "text": [
      "I want to kill myself when I play this crap\n",
      "\u001B[1m1/1\u001B[0m \u001B[32m━━━━━━━━━━━━━━━━━━━━\u001B[0m\u001B[37m\u001B[0m \u001B[1m0s\u001B[0m 57ms/step\n",
      "[[0.49822283]]\n",
      "Negative\n"
     ]
    }
   ],
   "source": [
    "def predict_mood(review):\n",
    "    review = clean_text(review)\n",
    "    review = tokenizer.texts_to_sequences([review])\n",
    "    review = pad_sequences(review, padding='post')\n",
    "    prediction = model.predict(review)\n",
    "    print(prediction)\n",
    "    if 0.5 <= prediction < 0.51:\n",
    "        return 'Neutral/Not graded'\n",
    "    elif prediction >= 0.51:\n",
    "        return 'Positive'\n",
    "    else:\n",
    "        return 'Negative'\n",
    "    \n",
    "import random\n",
    "\n",
    "random_index = random.randint(0, 650)\n",
    "review = df_downsampled['review'][random_index]\n",
    "rating = df_downsampled['rating'][random_index]\n",
    "# \n",
    "# print(f\"Review: {review}\")\n",
    "# print(f\"Rating: {rating}\")\n",
    "# print(predict_mood(review))\n",
    "message = \"I want to kill myself when I play this crap\"\n",
    "print(message)\n",
    "print(predict_mood(message))"
   ],
   "metadata": {
    "collapsed": false,
    "ExecuteTime": {
     "end_time": "2024-05-14T21:03:47.415693200Z",
     "start_time": "2024-05-14T21:03:47.231401900Z"
    }
   },
   "id": "5ba8c29a44395837",
   "execution_count": 226
  },
  {
   "cell_type": "code",
   "outputs": [
    {
     "name": "stdout",
     "output_type": "stream",
     "text": [
      "Testing Accuracy:  0.6488\n"
     ]
    }
   ],
   "source": [
    "loss, accuracy = model.evaluate(X_test, y_test, verbose=0)\n",
    "print(\"Testing Accuracy:  {:.4f}\".format(accuracy))"
   ],
   "metadata": {
    "collapsed": false,
    "ExecuteTime": {
     "end_time": "2024-05-14T20:59:17.273197400Z",
     "start_time": "2024-05-14T20:59:16.948912700Z"
    }
   },
   "id": "2cdcab68bfbbc5c2",
   "execution_count": 222
  },
  {
   "cell_type": "code",
   "outputs": [
    {
     "name": "stdout",
     "output_type": "stream",
     "text": [
      "\u001B[1m6/6\u001B[0m \u001B[32m━━━━━━━━━━━━━━━━━━━━\u001B[0m\u001B[37m\u001B[0m \u001B[1m1s\u001B[0m 22ms/step\n",
      "Testing F1 Score: 0.6550\n"
     ]
    }
   ],
   "source": [
    "from sklearn.metrics import f1_score\n",
    "\n",
    "# Get predicted values\n",
    "y_pred = model.predict(X_test)\n",
    "y_pred = np.where(y_pred >= 0.5, 1, 0)  # convert probabilities to binary output\n",
    "\n",
    "# Compute F1 score\n",
    "f1 = f1_score(y_test, y_pred)\n",
    "print(\"Testing F1 Score: {:.4f}\".format(f1))"
   ],
   "metadata": {
    "collapsed": false,
    "ExecuteTime": {
     "end_time": "2024-05-14T20:59:19.538917200Z",
     "start_time": "2024-05-14T20:59:18.527607700Z"
    }
   },
   "id": "4451c5e8b005d281",
   "execution_count": 223
  },
  {
   "cell_type": "code",
   "outputs": [
    {
     "name": "stdout",
     "output_type": "stream",
     "text": [
      "Testing Recall: 0.7273\n"
     ]
    }
   ],
   "source": [
    "from sklearn.metrics import recall_score\n",
    "\n",
    "# Compute recall\n",
    "recall = recall_score(y_test, y_pred)\n",
    "print(\"Testing Recall: {:.4f}\".format(recall))"
   ],
   "metadata": {
    "collapsed": false,
    "ExecuteTime": {
     "end_time": "2024-05-14T20:59:21.156536800Z",
     "start_time": "2024-05-14T20:59:21.122982800Z"
    }
   },
   "id": "f3993f4633f820fd",
   "execution_count": 224
  },
  {
   "cell_type": "code",
   "outputs": [],
   "source": [],
   "metadata": {
    "collapsed": false
   },
   "id": "77f66ba8ffda556a"
  }
 ],
 "metadata": {
  "kernelspec": {
   "display_name": "Python 3",
   "language": "python",
   "name": "python3"
  },
  "language_info": {
   "codemirror_mode": {
    "name": "ipython",
    "version": 2
   },
   "file_extension": ".py",
   "mimetype": "text/x-python",
   "name": "python",
   "nbconvert_exporter": "python",
   "pygments_lexer": "ipython2",
   "version": "2.7.6"
  }
 },
 "nbformat": 4,
 "nbformat_minor": 5
}
